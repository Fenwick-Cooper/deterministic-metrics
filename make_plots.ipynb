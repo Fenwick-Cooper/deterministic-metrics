{
 "cells": [
  {
   "cell_type": "code",
   "execution_count": null,
   "metadata": {},
   "outputs": [],
   "source": [
    "# Load diagnostic data and make plots\n",
    "\n",
    "# NOTE: To be simplified. Some functions will change a bit.\n",
    "\n",
    "# To do:\n",
    "#     Fix plots of differences by adding colourbars\n",
    "\n",
    "from datetime import datetime\n",
    "\n",
    "import load_daily_mean_data as ldmd\n",
    "import plot_deterministic_scores as pds"
   ]
  },
  {
   "cell_type": "markdown",
   "metadata": {},
   "source": [
    "<h3>Load deterministic metrics</h3>"
   ]
  },
  {
   "cell_type": "code",
   "execution_count": null,
   "metadata": {},
   "outputs": [],
   "source": [
    "deterministic_metrics_dir = \"/Users/cooperf/Documents/WFP/data/ICPAC_operational/Deterministic_comparison\"\n",
    "# Incorrect shapefile, get the correct one\n",
    "shapefile_name = \"/Users/cooperf/Documents/WFP/Operational/operational-cGAN/show-forecasts/show_forecasts/shapes/Kenya_shapes/Kenya_region.shp\"\n",
    "ICPAC_climate_data_file = \"/Users/cooperf/Documents/WFP/data/WRF_ICPAC_1981-2010-monthly.nc\"\n",
    "\n",
    "# Where plots will be saved to\n",
    "plot_dir = '/Users/cooperf/Documents/WFP/Deterministic_comparison/plots'\n",
    "\n",
    "year = 2024\n",
    "month = 4\n",
    "\n",
    "# Which country are we looking at. Can be:\n",
    "# \"South Sudan\",\"Rwanda\",\"Burundi\",\"Djibouti\",\"Eritrea\",\n",
    "# \"Ethiopia\",\"Sudan\",\"Somalia\",\"Tanzania\",\"Kenya\",\"Uganda\"\n",
    "latitude, longitude, mask = ldmd.load_country_mask(\"Kenya\")\n",
    "\n",
    "# Load the ICPAC-WRF climatology\n",
    "precip_clim_ICPAC = ldmd.load_ICPAC_monthly_climatology(ICPAC_climate_data_file, \"Kenya\")"
   ]
  },
  {
   "cell_type": "code",
   "execution_count": null,
   "metadata": {},
   "outputs": [],
   "source": [
    "file_name = f\"{deterministic_metrics_dir}/dm_IMERG_IFS_{year}{month:02d}.nc\"\n",
    "dm_IMERG_IFS = ldmd.load_deterministic_metrics(file_name)\n",
    "\n",
    "file_name = f\"{deterministic_metrics_dir}/dm_IMERG_cGAN_{year}{month:02d}.nc\"\n",
    "dm_IMERG_cGAN = ldmd.load_deterministic_metrics(file_name)\n",
    "\n",
    "# file_name = f\"{deterministic_metrics_dir}/dm_IMERG_KMD_WRF_{year}{month:02d}.nc\"\n",
    "# dm_IMERG_KMD_WRF = ldmd.load_deterministic_metrics(file_name)\n",
    "\n",
    "# XXX Move to the netCDF file\n",
    "region = 'Kenya'\n",
    "\n",
    "# So that we know where the data comes from\n",
    "# XXX Move to the netCDF file\n",
    "dm_IMERG_IFS[\"truth_source\"] = \"IMERG\"\n",
    "dm_IMERG_IFS['forecast_source'] = \"IFS\"\n",
    "dm_IMERG_cGAN[\"truth_source\"] = \"IMERG\"\n",
    "dm_IMERG_cGAN['forecast_source'] = \"cGAN\"\n",
    "#dm_IMERG_KMD_WRF[\"truth_source\"] = \"IMERG\"\n",
    "#dm_IMERG_KMD_WRF['forecast_source'] = \"KMD_WRF\"\n",
    "\n",
    "# Makes labelling easier\n",
    "# XXX Move year and month to the netCDF file\n",
    "d = datetime(year,month,1)\n",
    "\n",
    "# A list of all of the deterministic metrics to plot\n",
    "dm_list = [dm_IMERG_IFS, dm_IMERG_cGAN]\n",
    "# dm_list = [dm_IMERG_IFS, dm_IMERG_cGAN, dm_IMERG_KMD_WRF]"
   ]
  },
  {
   "cell_type": "markdown",
   "metadata": {},
   "source": [
    "<h3>Statistics over both the region and the days of this month</h3>"
   ]
  },
  {
   "cell_type": "code",
   "execution_count": null,
   "metadata": {},
   "outputs": [],
   "source": [
    "pds.print_basic_stats(dm_IMERG_IFS)"
   ]
  },
  {
   "cell_type": "code",
   "execution_count": null,
   "metadata": {},
   "outputs": [],
   "source": [
    "pds.print_basic_stats(dm_IMERG_cGAN)"
   ]
  },
  {
   "cell_type": "markdown",
   "metadata": {},
   "source": [
    "<h3>Monthly average maps</h3>"
   ]
  },
  {
   "cell_type": "code",
   "execution_count": null,
   "metadata": {},
   "outputs": [],
   "source": [
    "# statistic can be \"mean\" or \"std\"\n",
    "pds.plot_truth_and_forecast_maps(dm_list, region, d, statistic='mean', file_name=None)\n",
    "pds.plot_truth_and_forecast_maps(dm_list, region, d, statistic='std', file_name=None)"
   ]
  },
  {
   "cell_type": "code",
   "execution_count": null,
   "metadata": {},
   "outputs": [],
   "source": [
    "# statistic can be 'bias', 'MSE', 'MAE', 'R2', 'anomaly_corr'\n",
    "pds.plot_forecast_maps(dm_list, region, d, statistic='bias', file_name=None)\n",
    "pds.plot_forecast_maps(dm_list, region, d, statistic='RMSE', file_name=None)\n",
    "pds.plot_forecast_maps(dm_list, region, d, statistic='MAE', file_name=None)\n",
    "pds.plot_forecast_maps(dm_list, region, d, statistic='R2', file_name=None)\n",
    "pds.plot_forecast_maps(dm_list, region, d, statistic='anomaly_corr', file_name=None)"
   ]
  },
  {
   "cell_type": "markdown",
   "metadata": {},
   "source": [
    "<h3>Regional average daily</h3>"
   ]
  },
  {
   "cell_type": "code",
   "execution_count": null,
   "metadata": {},
   "outputs": [],
   "source": [
    "# statistic can be \"mean\" or \"std\"\n",
    "pds.plot_truth_and_forecast_days(dm_list, year, month, region, statistic='mean',\n",
    "                                 precip_clim_ICPAC=precip_clim_ICPAC, file_name=None)\n",
    "pds.plot_truth_and_forecast_days(dm_list, year, month, region, statistic='std', file_name=None)"
   ]
  },
  {
   "cell_type": "code",
   "execution_count": null,
   "metadata": {},
   "outputs": [],
   "source": [
    "pds.plot_forecast_days(dm_list, year, month, region, statistic=\"bias\", file_name=None)\n",
    "pds.plot_forecast_days(dm_list, year, month, region, statistic=\"RMSE\", file_name=None)\n",
    "pds.plot_forecast_days(dm_list, year, month, region, statistic=\"MAE\", file_name=None)\n",
    "pds.plot_forecast_days(dm_list, year, month, region, statistic=\"R2\", file_name=None)\n",
    "pds.plot_forecast_days(dm_list, year, month, region, statistic=\"anomaly_corr\", file_name=None)"
   ]
  }
 ],
 "metadata": {
  "kernelspec": {
   "display_name": "AOPP",
   "language": "python",
   "name": "python3"
  },
  "language_info": {
   "codemirror_mode": {
    "name": "ipython",
    "version": 3
   },
   "file_extension": ".py",
   "mimetype": "text/x-python",
   "name": "python",
   "nbconvert_exporter": "python",
   "pygments_lexer": "ipython3",
   "version": "3.12.2"
  }
 },
 "nbformat": 4,
 "nbformat_minor": 2
}
